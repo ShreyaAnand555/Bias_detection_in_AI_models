{
  "nbformat": 4,
  "nbformat_minor": 0,
  "metadata": {
    "colab": {
      "provenance": []
    },
    "kernelspec": {
      "name": "python3",
      "display_name": "Python 3"
    },
    "language_info": {
      "name": "python"
    }
  },
  "cells": [
    {
      "cell_type": "code",
      "execution_count": null,
      "metadata": {
        "id": "1lFVkoDFhUx4"
      },
      "outputs": [],
      "source": [
        "import pandas as pd\n",
        "import seaborn as sns\n",
        "import matplotlib.pyplot as plt\n",
        "from sklearn.metrics import confusion_matrix, classification_report\n"
      ]
    },
    {
      "cell_type": "code",
      "source": [
        "# Replace 'dataset.csv' with the path to your dataset.\n",
        "from google.colab import files\n",
        "\n",
        "# Upload your dataset\n",
        "uploaded = files.upload()\n",
        "\n",
        "# Load the dataset\n",
        "dataset = pd.read_csv(list(uploaded.keys())[0])\n",
        "\n",
        "# Display the first few rows of the dataset\n",
        "print(dataset.head())\n"
      ],
      "metadata": {
        "colab": {
          "base_uri": "https://localhost:8080/",
          "height": 177
        },
        "id": "dJZsVGESjo6h",
        "outputId": "07976dab-5560-4145-8ccd-be7dd2cec847"
      },
      "execution_count": null,
      "outputs": [
        {
          "output_type": "display_data",
          "data": {
            "text/plain": [
              "<IPython.core.display.HTML object>"
            ],
            "text/html": [
              "\n",
              "     <input type=\"file\" id=\"files-1df83e68-a43f-4a3d-8ac7-aab9692219e2\" name=\"files[]\" multiple disabled\n",
              "        style=\"border:none\" />\n",
              "     <output id=\"result-1df83e68-a43f-4a3d-8ac7-aab9692219e2\">\n",
              "      Upload widget is only available when the cell has been executed in the\n",
              "      current browser session. Please rerun this cell to enable.\n",
              "      </output>\n",
              "      <script>// Copyright 2017 Google LLC\n",
              "//\n",
              "// Licensed under the Apache License, Version 2.0 (the \"License\");\n",
              "// you may not use this file except in compliance with the License.\n",
              "// You may obtain a copy of the License at\n",
              "//\n",
              "//      http://www.apache.org/licenses/LICENSE-2.0\n",
              "//\n",
              "// Unless required by applicable law or agreed to in writing, software\n",
              "// distributed under the License is distributed on an \"AS IS\" BASIS,\n",
              "// WITHOUT WARRANTIES OR CONDITIONS OF ANY KIND, either express or implied.\n",
              "// See the License for the specific language governing permissions and\n",
              "// limitations under the License.\n",
              "\n",
              "/**\n",
              " * @fileoverview Helpers for google.colab Python module.\n",
              " */\n",
              "(function(scope) {\n",
              "function span(text, styleAttributes = {}) {\n",
              "  const element = document.createElement('span');\n",
              "  element.textContent = text;\n",
              "  for (const key of Object.keys(styleAttributes)) {\n",
              "    element.style[key] = styleAttributes[key];\n",
              "  }\n",
              "  return element;\n",
              "}\n",
              "\n",
              "// Max number of bytes which will be uploaded at a time.\n",
              "const MAX_PAYLOAD_SIZE = 100 * 1024;\n",
              "\n",
              "function _uploadFiles(inputId, outputId) {\n",
              "  const steps = uploadFilesStep(inputId, outputId);\n",
              "  const outputElement = document.getElementById(outputId);\n",
              "  // Cache steps on the outputElement to make it available for the next call\n",
              "  // to uploadFilesContinue from Python.\n",
              "  outputElement.steps = steps;\n",
              "\n",
              "  return _uploadFilesContinue(outputId);\n",
              "}\n",
              "\n",
              "// This is roughly an async generator (not supported in the browser yet),\n",
              "// where there are multiple asynchronous steps and the Python side is going\n",
              "// to poll for completion of each step.\n",
              "// This uses a Promise to block the python side on completion of each step,\n",
              "// then passes the result of the previous step as the input to the next step.\n",
              "function _uploadFilesContinue(outputId) {\n",
              "  const outputElement = document.getElementById(outputId);\n",
              "  const steps = outputElement.steps;\n",
              "\n",
              "  const next = steps.next(outputElement.lastPromiseValue);\n",
              "  return Promise.resolve(next.value.promise).then((value) => {\n",
              "    // Cache the last promise value to make it available to the next\n",
              "    // step of the generator.\n",
              "    outputElement.lastPromiseValue = value;\n",
              "    return next.value.response;\n",
              "  });\n",
              "}\n",
              "\n",
              "/**\n",
              " * Generator function which is called between each async step of the upload\n",
              " * process.\n",
              " * @param {string} inputId Element ID of the input file picker element.\n",
              " * @param {string} outputId Element ID of the output display.\n",
              " * @return {!Iterable<!Object>} Iterable of next steps.\n",
              " */\n",
              "function* uploadFilesStep(inputId, outputId) {\n",
              "  const inputElement = document.getElementById(inputId);\n",
              "  inputElement.disabled = false;\n",
              "\n",
              "  const outputElement = document.getElementById(outputId);\n",
              "  outputElement.innerHTML = '';\n",
              "\n",
              "  const pickedPromise = new Promise((resolve) => {\n",
              "    inputElement.addEventListener('change', (e) => {\n",
              "      resolve(e.target.files);\n",
              "    });\n",
              "  });\n",
              "\n",
              "  const cancel = document.createElement('button');\n",
              "  inputElement.parentElement.appendChild(cancel);\n",
              "  cancel.textContent = 'Cancel upload';\n",
              "  const cancelPromise = new Promise((resolve) => {\n",
              "    cancel.onclick = () => {\n",
              "      resolve(null);\n",
              "    };\n",
              "  });\n",
              "\n",
              "  // Wait for the user to pick the files.\n",
              "  const files = yield {\n",
              "    promise: Promise.race([pickedPromise, cancelPromise]),\n",
              "    response: {\n",
              "      action: 'starting',\n",
              "    }\n",
              "  };\n",
              "\n",
              "  cancel.remove();\n",
              "\n",
              "  // Disable the input element since further picks are not allowed.\n",
              "  inputElement.disabled = true;\n",
              "\n",
              "  if (!files) {\n",
              "    return {\n",
              "      response: {\n",
              "        action: 'complete',\n",
              "      }\n",
              "    };\n",
              "  }\n",
              "\n",
              "  for (const file of files) {\n",
              "    const li = document.createElement('li');\n",
              "    li.append(span(file.name, {fontWeight: 'bold'}));\n",
              "    li.append(span(\n",
              "        `(${file.type || 'n/a'}) - ${file.size} bytes, ` +\n",
              "        `last modified: ${\n",
              "            file.lastModifiedDate ? file.lastModifiedDate.toLocaleDateString() :\n",
              "                                    'n/a'} - `));\n",
              "    const percent = span('0% done');\n",
              "    li.appendChild(percent);\n",
              "\n",
              "    outputElement.appendChild(li);\n",
              "\n",
              "    const fileDataPromise = new Promise((resolve) => {\n",
              "      const reader = new FileReader();\n",
              "      reader.onload = (e) => {\n",
              "        resolve(e.target.result);\n",
              "      };\n",
              "      reader.readAsArrayBuffer(file);\n",
              "    });\n",
              "    // Wait for the data to be ready.\n",
              "    let fileData = yield {\n",
              "      promise: fileDataPromise,\n",
              "      response: {\n",
              "        action: 'continue',\n",
              "      }\n",
              "    };\n",
              "\n",
              "    // Use a chunked sending to avoid message size limits. See b/62115660.\n",
              "    let position = 0;\n",
              "    do {\n",
              "      const length = Math.min(fileData.byteLength - position, MAX_PAYLOAD_SIZE);\n",
              "      const chunk = new Uint8Array(fileData, position, length);\n",
              "      position += length;\n",
              "\n",
              "      const base64 = btoa(String.fromCharCode.apply(null, chunk));\n",
              "      yield {\n",
              "        response: {\n",
              "          action: 'append',\n",
              "          file: file.name,\n",
              "          data: base64,\n",
              "        },\n",
              "      };\n",
              "\n",
              "      let percentDone = fileData.byteLength === 0 ?\n",
              "          100 :\n",
              "          Math.round((position / fileData.byteLength) * 100);\n",
              "      percent.textContent = `${percentDone}% done`;\n",
              "\n",
              "    } while (position < fileData.byteLength);\n",
              "  }\n",
              "\n",
              "  // All done.\n",
              "  yield {\n",
              "    response: {\n",
              "      action: 'complete',\n",
              "    }\n",
              "  };\n",
              "}\n",
              "\n",
              "scope.google = scope.google || {};\n",
              "scope.google.colab = scope.google.colab || {};\n",
              "scope.google.colab._files = {\n",
              "  _uploadFiles,\n",
              "  _uploadFilesContinue,\n",
              "};\n",
              "})(self);\n",
              "</script> "
            ]
          },
          "metadata": {}
        },
        {
          "output_type": "stream",
          "name": "stdout",
          "text": [
            "Saving dataset.csv to dataset (1).csv\n",
            "       Race  Gender Age_Group True_Label Predicted_Label\n",
            "0     White    Male     Young   Positive        Positive\n",
            "1     Black  Female     Adult   Negative        Negative\n",
            "2     Asian  Female    Senior   Positive        Negative\n",
            "3  Hispanic    Male     Young   Positive        Positive\n",
            "4     White  Female     Adult   Negative        Positive\n"
          ]
        }
      ]
    },
    {
      "cell_type": "code",
      "source": [
        "# Function to analyze representation\n",
        "def analyze_representation(data, column):\n",
        "    representation = data[column].value_counts(normalize=True) * 100\n",
        "    print(f\"Representation Analysis for {column}:\")\n",
        "    print(representation)\n",
        "    plt.figure(figsize=(8, 6))\n",
        "    sns.barplot(x=representation.index, y=representation.values)\n",
        "    plt.title(f\"Representation in {column}\")\n",
        "    plt.ylabel(\"Percentage\")\n",
        "    plt.xlabel(column)\n",
        "    plt.show()\n"
      ],
      "metadata": {
        "id": "U2XgwVx9jvTT"
      },
      "execution_count": null,
      "outputs": []
    },
    {
      "cell_type": "code",
      "source": [
        "# Analyze representation for Race, Gender, and Age_Group\n",
        "analyze_representation(dataset, 'Race')\n",
        "analyze_representation(dataset, 'Gender')\n",
        "analyze_representation(dataset, 'Age_Group')\n"
      ],
      "metadata": {
        "colab": {
          "base_uri": "https://localhost:8080/",
          "height": 1000
        },
        "id": "gYmUfzhpjycl",
        "outputId": "16a0bbb3-ecf7-43d6-81a3-9101b6d8a7e8"
      },
      "execution_count": null,
      "outputs": [
        {
          "output_type": "stream",
          "name": "stdout",
          "text": [
            "Representation Analysis for Race:\n",
            "Race\n",
            "White       26.666667\n",
            "Black       26.666667\n",
            "Asian       26.666667\n",
            "Hispanic    20.000000\n",
            "Name: proportion, dtype: float64\n"
          ]
        },
        {
          "output_type": "display_data",
          "data": {
            "text/plain": [
              "<Figure size 800x600 with 1 Axes>"
            ],
            "image/png": "[encoded data removed]"
          },
          "metadata": {}
        },
        {
          "output_type": "stream",
          "name": "stdout",
          "text": [
            "Representation Analysis for Gender:\n",
            "Gender\n",
            "Male      53.333333\n",
            "Female    46.666667\n",
            "Name: proportion, dtype: float64\n"
          ]
        },
        {
          "output_type": "display_data",
          "data": {
            "text/plain": [
              "<Figure size 800x600 with 1 Axes>"
            ],
            "image/png": "[encoded data removed]"
          },
          "metadata": {}
        },
        {
          "output_type": "stream",
          "name": "stdout",
          "text": [
            "Representation Analysis for Age_Group:\n",
            "Age_Group\n",
            "Young     33.333333\n",
            "Adult     33.333333\n",
            "Senior    33.333333\n",
            "Name: proportion, dtype: float64\n"
          ]
        },
        {
          "output_type": "display_data",
          "data": {
            "text/plain": [
              "<Figure size 800x600 with 1 Axes>"
            ],
            "image/png": "[encoded data removed]"
          },
          "metadata": {}
        }
      ]
    },
    {
      "cell_type": "code",
      "source": [
        "# Updated function for bias analysis\n",
        "def analyze_bias(data):\n",
        "    # Compute confusion matrix and classification report\n",
        "    confusion = confusion_matrix(data['True_Label'], data['Predicted_Label'], labels=[\"Positive\", \"Negative\"])\n",
        "    print(\"Confusion Matrix:\\n\", confusion)\n",
        "    report = classification_report(data['True_Label'], data['Predicted_Label'], target_names=[\"Positive\", \"Negative\"])\n",
        "    print(\"Classification Report:\\n\", report)\n",
        "\n",
        "# Call the function to analyze bias\n",
        "analyze_bias(dataset)\n",
        "\n"
      ],
      "metadata": {
        "colab": {
          "base_uri": "https://localhost:8080/"
        },
        "id": "ft7YzMkDj2qf",
        "outputId": "c5bc6a44-3e18-41ef-c964-58401d8ec3f9"
      },
      "execution_count": null,
      "outputs": [
        {
          "output_type": "stream",
          "name": "stdout",
          "text": [
            "Confusion Matrix:\n",
            " [[5 3]\n",
            " [2 5]]\n",
            "Classification Report:\n",
            "               precision    recall  f1-score   support\n",
            "\n",
            "    Positive       0.62      0.71      0.67         7\n",
            "    Negative       0.71      0.62      0.67         8\n",
            "\n",
            "    accuracy                           0.67        15\n",
            "   macro avg       0.67      0.67      0.67        15\n",
            "weighted avg       0.67      0.67      0.67        15\n",
            "\n"
          ]
        }
      ]
    },
    {
      "cell_type": "code",
      "source": [
        "# Function to detect overrepresentation and underrepresentation\n",
        "def detect_imbalance(data, column):\n",
        "    print(f\"Checking for imbalance in {column}...\")\n",
        "    imbalance = data[column].value_counts()\n",
        "    overrepresented = imbalance[imbalance > imbalance.mean()]\n",
        "    underrepresented = imbalance[imbalance < imbalance.mean()]\n",
        "    print(\"Overrepresented Groups:\\n\", overrepresented)\n",
        "    print(\"Underrepresented Groups:\\n\", underrepresented)\n",
        "\n"
      ],
      "metadata": {
        "id": "_M48_uw1j5lz"
      },
      "execution_count": null,
      "outputs": []
    },
    {
      "cell_type": "code",
      "source": [
        "# Check imbalance for Race, Gender, and Age_Group\n",
        "detect_imbalance(dataset, 'Race')\n",
        "detect_imbalance(dataset, 'Gender')\n",
        "detect_imbalance(dataset, 'Age_Group')\n"
      ],
      "metadata": {
        "colab": {
          "base_uri": "https://localhost:8080/"
        },
        "id": "s4DHZn9Aj9Lu",
        "outputId": "3c6553c1-2bfe-4f22-9a35-6fa039a5ee52"
      },
      "execution_count": null,
      "outputs": [
        {
          "output_type": "stream",
          "name": "stdout",
          "text": [
            "Checking for imbalance in Race...\n",
            "Overrepresented Groups:\n",
            " Race\n",
            "White    4\n",
            "Black    4\n",
            "Asian    4\n",
            "Name: count, dtype: int64\n",
            "Underrepresented Groups:\n",
            " Race\n",
            "Hispanic    3\n",
            "Name: count, dtype: int64\n",
            "Checking for imbalance in Gender...\n",
            "Overrepresented Groups:\n",
            " Gender\n",
            "Male    8\n",
            "Name: count, dtype: int64\n",
            "Underrepresented Groups:\n",
            " Gender\n",
            "Female    7\n",
            "Name: count, dtype: int64\n",
            "Checking for imbalance in Age_Group...\n",
            "Overrepresented Groups:\n",
            " Series([], Name: count, dtype: int64)\n",
            "Underrepresented Groups:\n",
            " Series([], Name: count, dtype: int64)\n"
          ]
        }
      ]
    },
    {
      "cell_type": "code",
      "source": [
        "# Function to rebalance the dataset\n",
        "def rebalance_data(data, column):\n",
        "    balanced_data = data.groupby(column, group_keys=False).apply(lambda x: x.sample(data[column].value_counts().min()))\n",
        "    return balanced_data\n"
      ],
      "metadata": {
        "id": "XpQvTE37ktDt"
      },
      "execution_count": null,
      "outputs": []
    },
    {
      "cell_type": "code",
      "source": [
        "# Rebalance the dataset by 'Race' (as an example)\n",
        "balanced_dataset = rebalance_data(dataset, 'Race')\n",
        "\n",
        "# Check the new distribution\n",
        "print(\"Balanced Dataset Distribution:\\n\", balanced_dataset['Race'].value_counts())\n",
        "\n",
        "# Save the balanced dataset\n",
        "balanced_dataset.to_csv('balanced_dataset.csv', index=False)\n",
        "print(\"Balanced dataset saved as 'balanced_dataset.csv'.\")\n"
      ],
      "metadata": {
        "colab": {
          "base_uri": "https://localhost:8080/"
        },
        "id": "3iZ84_2_k5P9",
        "outputId": "f326e4d7-b7ed-4221-883f-edc687574dad"
      },
      "execution_count": null,
      "outputs": [
        {
          "output_type": "stream",
          "name": "stdout",
          "text": [
            "Balanced Dataset Distribution:\n",
            " Race\n",
            "Asian       3\n",
            "Black       3\n",
            "Hispanic    3\n",
            "White       3\n",
            "Name: count, dtype: int64\n",
            "Balanced dataset saved as 'balanced_dataset.csv'.\n"
          ]
        },
        {
          "output_type": "stream",
          "name": "stderr",
          "text": [
            "<ipython-input-11-f991bce996cc>:3: DeprecationWarning: DataFrameGroupBy.apply operated on the grouping columns. This behavior is deprecated, and in a future version of pandas the grouping columns will be excluded from the operation. Either pass `include_groups=False` to exclude the groupings or explicitly select the grouping columns after groupby to silence this warning.\n",
            "  balanced_data = data.groupby(column, group_keys=False).apply(lambda x: x.sample(data[column].value_counts().min()))\n"
          ]
        }
      ]
    },
    {
      "cell_type": "code",
      "source": [
        "from google.colab import files\n",
        "\n",
        "# Download the balanced dataset\n",
        "files.download('balanced_dataset.csv')\n"
      ],
      "metadata": {
        "colab": {
          "base_uri": "https://localhost:8080/",
          "height": 17
        },
        "id": "r7s7imGYk-Ga",
        "outputId": "96b89236-4386-4cfd-ab96-539fdd5a8ee9"
      },
      "execution_count": null,
      "outputs": [
        {
          "output_type": "display_data",
          "data": {
            "text/plain": [
              "<IPython.core.display.Javascript object>"
            ],
            "application/javascript": [
              "\n",
              "    async function download(id, filename, size) {\n",
              "      if (!google.colab.kernel.accessAllowed) {\n",
              "        return;\n",
              "      }\n",
              "      const div = document.createElement('div');\n",
              "      const label = document.createElement('label');\n",
              "      label.textContent = `Downloading \"${filename}\": `;\n",
              "      div.appendChild(label);\n",
              "      const progress = document.createElement('progress');\n",
              "      progress.max = size;\n",
              "      div.appendChild(progress);\n",
              "      document.body.appendChild(div);\n",
              "\n",
              "      const buffers = [];\n",
              "      let downloaded = 0;\n",
              "\n",
              "      const channel = await google.colab.kernel.comms.open(id);\n",
              "      // Send a message to notify the kernel that we're ready.\n",
              "      channel.send({})\n",
              "\n",
              "      for await (const message of channel.messages) {\n",
              "        // Send a message to notify the kernel that we're ready.\n",
              "        channel.send({})\n",
              "        if (message.buffers) {\n",
              "          for (const buffer of message.buffers) {\n",
              "            buffers.push(buffer);\n",
              "            downloaded += buffer.byteLength;\n",
              "            progress.value = downloaded;\n",
              "          }\n",
              "        }\n",
              "      }\n",
              "      const blob = new Blob(buffers, {type: 'application/binary'});\n",
              "      const a = document.createElement('a');\n",
              "      a.href = window.URL.createObjectURL(blob);\n",
              "      a.download = filename;\n",
              "      div.appendChild(a);\n",
              "      a.click();\n",
              "      div.remove();\n",
              "    }\n",
              "  "
            ]
          },
          "metadata": {}
        },
        {
          "output_type": "display_data",
          "data": {
            "text/plain": [
              "<IPython.core.display.Javascript object>"
            ],
            "application/javascript": [
              "download(\"download_ddd0411b-00c8-4550-b2a7-7501a67c585c\", \"balanced_dataset.csv\", 496)"
            ]
          },
          "metadata": {}
        }
      ]
    },
    {
      "cell_type": "code",
      "source": [
        "# Function to analyze subgroup-specific performance\n",
        "def subgroup_performance(data, subgroup_column):\n",
        "    subgroups = data[subgroup_column].unique()\n",
        "    for subgroup in subgroups:\n",
        "        subgroup_data = data[data[subgroup_column] == subgroup]\n",
        "        print(f\"Performance for {subgroup_column} = {subgroup}:\")\n",
        "        confusion = confusion_matrix(subgroup_data['True_Label'], subgroup_data['Predicted_Label'], labels=[\"Positive\", \"Negative\"])\n",
        "        print(\"Confusion Matrix:\\n\", confusion)\n",
        "        report = classification_report(subgroup_data['True_Label'], subgroup_data['Predicted_Label'], target_names=[\"Positive\", \"Negative\"])\n",
        "        print(\"Classification Report:\\n\", report)\n",
        "\n",
        "# Analyze subgroup performance for Race, Gender, and Age_Group\n",
        "subgroup_performance(dataset, 'Race')\n",
        "subgroup_performance(dataset, 'Gender')\n",
        "subgroup_performance(dataset, 'Age_Group')\n"
      ],
      "metadata": {
        "colab": {
          "base_uri": "https://localhost:8080/"
        },
        "id": "jPIrJ_ZCl0sg",
        "outputId": "014c89d5-11ca-45ea-fe8f-cc9b5f6de25e"
      },
      "execution_count": null,
      "outputs": [
        {
          "output_type": "stream",
          "name": "stdout",
          "text": [
            "Performance for Race = White:\n",
            "Confusion Matrix:\n",
            " [[2 0]\n",
            " [1 1]]\n",
            "Classification Report:\n",
            "               precision    recall  f1-score   support\n",
            "\n",
            "    Positive       1.00      0.50      0.67         2\n",
            "    Negative       0.67      1.00      0.80         2\n",
            "\n",
            "    accuracy                           0.75         4\n",
            "   macro avg       0.83      0.75      0.73         4\n",
            "weighted avg       0.83      0.75      0.73         4\n",
            "\n",
            "Performance for Race = Black:\n",
            "Confusion Matrix:\n",
            " [[0 0]\n",
            " [1 3]]\n",
            "Classification Report:\n",
            "               precision    recall  f1-score   support\n",
            "\n",
            "    Positive       1.00      0.75      0.86         4\n",
            "    Negative       0.00      0.00      0.00         0\n",
            "\n",
            "    accuracy                           0.75         4\n",
            "   macro avg       0.50      0.38      0.43         4\n",
            "weighted avg       1.00      0.75      0.86         4\n",
            "\n",
            "Performance for Race = Asian:\n",
            "Confusion Matrix:\n",
            " [[2 2]\n",
            " [0 0]]\n",
            "Classification Report:\n",
            "               precision    recall  f1-score   support\n",
            "\n",
            "    Positive       0.00      0.00      0.00         0\n",
            "    Negative       1.00      0.50      0.67         4\n",
            "\n",
            "    accuracy                           0.50         4\n",
            "   macro avg       0.50      0.25      0.33         4\n",
            "weighted avg       1.00      0.50      0.67         4\n",
            "\n",
            "Performance for Race = Hispanic:\n",
            "Confusion Matrix:\n",
            " [[1 1]\n",
            " [0 1]]\n",
            "Classification Report:\n",
            "               precision    recall  f1-score   support\n",
            "\n",
            "    Positive       0.50      1.00      0.67         1\n",
            "    Negative       1.00      0.50      0.67         2\n",
            "\n",
            "    accuracy                           0.67         3\n",
            "   macro avg       0.75      0.75      0.67         3\n",
            "weighted avg       0.83      0.67      0.67         3\n",
            "\n",
            "Performance for Gender = Male:\n",
            "Confusion Matrix:\n",
            " [[3 1]\n",
            " [0 4]]\n",
            "Classification Report:\n",
            "               precision    recall  f1-score   support\n",
            "\n",
            "    Positive       0.80      1.00      0.89         4\n",
            "    Negative       1.00      0.75      0.86         4\n",
            "\n",
            "    accuracy                           0.88         8\n",
            "   macro avg       0.90      0.88      0.87         8\n",
            "weighted avg       0.90      0.88      0.87         8\n",
            "\n",
            "Performance for Gender = Female:\n",
            "Confusion Matrix:\n",
            " [[2 2]\n",
            " [2 1]]\n",
            "Classification Report:\n",
            "               precision    recall  f1-score   support\n",
            "\n",
            "    Positive       0.33      0.33      0.33         3\n",
            "    Negative       0.50      0.50      0.50         4\n",
            "\n",
            "    accuracy                           0.43         7\n",
            "   macro avg       0.42      0.42      0.42         7\n",
            "weighted avg       0.43      0.43      0.43         7\n",
            "\n",
            "Performance for Age_Group = Young:\n",
            "Confusion Matrix:\n",
            " [[4 0]\n",
            " [1 0]]\n",
            "Classification Report:\n",
            "               precision    recall  f1-score   support\n",
            "\n",
            "    Positive       0.00      0.00      0.00         1\n",
            "    Negative       0.80      1.00      0.89         4\n",
            "\n",
            "    accuracy                           0.80         5\n",
            "   macro avg       0.40      0.50      0.44         5\n",
            "weighted avg       0.64      0.80      0.71         5\n",
            "\n",
            "Performance for Age_Group = Adult:\n",
            "Confusion Matrix:\n",
            " [[1 1]\n",
            " [1 2]]\n",
            "Classification Report:\n",
            "               precision    recall  f1-score   support\n",
            "\n",
            "    Positive       0.67      0.67      0.67         3\n",
            "    Negative       0.50      0.50      0.50         2\n",
            "\n",
            "    accuracy                           0.60         5\n",
            "   macro avg       0.58      0.58      0.58         5\n",
            "weighted avg       0.60      0.60      0.60         5\n",
            "\n",
            "Performance for Age_Group = Senior:\n",
            "Confusion Matrix:\n",
            " [[0 2]\n",
            " [0 3]]\n",
            "Classification Report:\n",
            "               precision    recall  f1-score   support\n",
            "\n",
            "    Positive       0.60      1.00      0.75         3\n",
            "    Negative       0.00      0.00      0.00         2\n",
            "\n",
            "    accuracy                           0.60         5\n",
            "   macro avg       0.30      0.50      0.38         5\n",
            "weighted avg       0.36      0.60      0.45         5\n",
            "\n"
          ]
        },
        {
          "output_type": "stream",
          "name": "stderr",
          "text": [
            "/usr/local/lib/python3.10/dist-packages/sklearn/metrics/_classification.py:1531: UndefinedMetricWarning: Recall is ill-defined and being set to 0.0 in labels with no true samples. Use `zero_division` parameter to control this behavior.\n",
            "  _warn_prf(average, modifier, f\"{metric.capitalize()} is\", len(result))\n",
            "/usr/local/lib/python3.10/dist-packages/sklearn/metrics/_classification.py:1531: UndefinedMetricWarning: Recall is ill-defined and being set to 0.0 in labels with no true samples. Use `zero_division` parameter to control this behavior.\n",
            "  _warn_prf(average, modifier, f\"{metric.capitalize()} is\", len(result))\n",
            "/usr/local/lib/python3.10/dist-packages/sklearn/metrics/_classification.py:1531: UndefinedMetricWarning: Recall is ill-defined and being set to 0.0 in labels with no true samples. Use `zero_division` parameter to control this behavior.\n",
            "  _warn_prf(average, modifier, f\"{metric.capitalize()} is\", len(result))\n",
            "/usr/local/lib/python3.10/dist-packages/sklearn/metrics/_classification.py:1531: UndefinedMetricWarning: Recall is ill-defined and being set to 0.0 in labels with no true samples. Use `zero_division` parameter to control this behavior.\n",
            "  _warn_prf(average, modifier, f\"{metric.capitalize()} is\", len(result))\n",
            "/usr/local/lib/python3.10/dist-packages/sklearn/metrics/_classification.py:1531: UndefinedMetricWarning: Recall is ill-defined and being set to 0.0 in labels with no true samples. Use `zero_division` parameter to control this behavior.\n",
            "  _warn_prf(average, modifier, f\"{metric.capitalize()} is\", len(result))\n",
            "/usr/local/lib/python3.10/dist-packages/sklearn/metrics/_classification.py:1531: UndefinedMetricWarning: Recall is ill-defined and being set to 0.0 in labels with no true samples. Use `zero_division` parameter to control this behavior.\n",
            "  _warn_prf(average, modifier, f\"{metric.capitalize()} is\", len(result))\n",
            "/usr/local/lib/python3.10/dist-packages/sklearn/metrics/_classification.py:1531: UndefinedMetricWarning: Precision is ill-defined and being set to 0.0 in labels with no predicted samples. Use `zero_division` parameter to control this behavior.\n",
            "  _warn_prf(average, modifier, f\"{metric.capitalize()} is\", len(result))\n",
            "/usr/local/lib/python3.10/dist-packages/sklearn/metrics/_classification.py:1531: UndefinedMetricWarning: Precision is ill-defined and being set to 0.0 in labels with no predicted samples. Use `zero_division` parameter to control this behavior.\n",
            "  _warn_prf(average, modifier, f\"{metric.capitalize()} is\", len(result))\n",
            "/usr/local/lib/python3.10/dist-packages/sklearn/metrics/_classification.py:1531: UndefinedMetricWarning: Precision is ill-defined and being set to 0.0 in labels with no predicted samples. Use `zero_division` parameter to control this behavior.\n",
            "  _warn_prf(average, modifier, f\"{metric.capitalize()} is\", len(result))\n",
            "/usr/local/lib/python3.10/dist-packages/sklearn/metrics/_classification.py:1531: UndefinedMetricWarning: Precision is ill-defined and being set to 0.0 in labels with no predicted samples. Use `zero_division` parameter to control this behavior.\n",
            "  _warn_prf(average, modifier, f\"{metric.capitalize()} is\", len(result))\n",
            "/usr/local/lib/python3.10/dist-packages/sklearn/metrics/_classification.py:1531: UndefinedMetricWarning: Precision is ill-defined and being set to 0.0 in labels with no predicted samples. Use `zero_division` parameter to control this behavior.\n",
            "  _warn_prf(average, modifier, f\"{metric.capitalize()} is\", len(result))\n",
            "/usr/local/lib/python3.10/dist-packages/sklearn/metrics/_classification.py:1531: UndefinedMetricWarning: Precision is ill-defined and being set to 0.0 in labels with no predicted samples. Use `zero_division` parameter to control this behavior.\n",
            "  _warn_prf(average, modifier, f\"{metric.capitalize()} is\", len(result))\n"
          ]
        }
      ]
    },
    {
      "cell_type": "code",
      "source": [
        "# Check misclassification rates by subgroup\n",
        "def misclassification_rate(data, subgroup_column):\n",
        "    misclassifications = data[data['True_Label'] != data['Predicted_Label']]\n",
        "    rates = misclassifications[subgroup_column].value_counts(normalize=True) * 100\n",
        "    print(f\"Misclassification Rates by {subgroup_column}:\\n\", rates)\n",
        "\n",
        "# Analyze misclassification rates for Race, Gender, and Age_Group\n",
        "misclassification_rate(dataset, 'Race')\n",
        "misclassification_rate(dataset, 'Gender')\n",
        "misclassification_rate(dataset, 'Age_Group')\n"
      ],
      "metadata": {
        "colab": {
          "base_uri": "https://localhost:8080/"
        },
        "id": "rK6HSQ7Al2x3",
        "outputId": "24703a9f-40ed-43b9-f6e3-00f9861eae7c"
      },
      "execution_count": null,
      "outputs": [
        {
          "output_type": "stream",
          "name": "stdout",
          "text": [
            "Misclassification Rates by Race:\n",
            " Race\n",
            "Asian       40.0\n",
            "White       20.0\n",
            "Hispanic    20.0\n",
            "Black       20.0\n",
            "Name: proportion, dtype: float64\n",
            "Misclassification Rates by Gender:\n",
            " Gender\n",
            "Female    80.0\n",
            "Male      20.0\n",
            "Name: proportion, dtype: float64\n",
            "Misclassification Rates by Age_Group:\n",
            " Age_Group\n",
            "Senior    40.0\n",
            "Adult     40.0\n",
            "Young     20.0\n",
            "Name: proportion, dtype: float64\n"
          ]
        }
      ]
    },
    {
      "cell_type": "code",
      "source": [
        "# Install libraries\n",
        "!pip install fairlearn aif360\n"
      ],
      "metadata": {
        "colab": {
          "base_uri": "https://localhost:8080/"
        },
        "id": "JYmv_NbNl5lc",
        "outputId": "211e2b67-59d9-48ee-dc12-2daf924007fa"
      },
      "execution_count": null,
      "outputs": [
        {
          "output_type": "stream",
          "name": "stdout",
          "text": [
            "Collecting fairlearn\n",
            "  Downloading fairlearn-0.11.0-py3-none-any.whl.metadata (7.0 kB)\n",
            "Collecting aif360\n",
            "  Downloading aif360-0.6.1-py3-none-any.whl.metadata (5.0 kB)\n",
            "Requirement already satisfied: numpy>=1.24.4 in /usr/local/lib/python3.10/dist-packages (from fairlearn) (1.26.4)\n",
            "Requirement already satisfied: pandas>=2.0.3 in /usr/local/lib/python3.10/dist-packages (from fairlearn) (2.2.2)\n",
            "Requirement already satisfied: scikit-learn>=1.2.1 in /usr/local/lib/python3.10/dist-packages (from fairlearn) (1.5.2)\n",
            "Requirement already satisfied: scipy>=1.9.3 in /usr/local/lib/python3.10/dist-packages (from fairlearn) (1.13.1)\n",
            "Requirement already satisfied: matplotlib in /usr/local/lib/python3.10/dist-packages (from aif360) (3.8.0)\n",
            "Requirement already satisfied: python-dateutil>=2.8.2 in /usr/local/lib/python3.10/dist-packages (from pandas>=2.0.3->fairlearn) (2.8.2)\n",
            "Requirement already satisfied: pytz>=2020.1 in /usr/local/lib/python3.10/dist-packages (from pandas>=2.0.3->fairlearn) (2024.2)\n",
            "Requirement already satisfied: tzdata>=2022.7 in /usr/local/lib/python3.10/dist-packages (from pandas>=2.0.3->fairlearn) (2024.2)\n",
            "Requirement already satisfied: joblib>=1.2.0 in /usr/local/lib/python3.10/dist-packages (from scikit-learn>=1.2.1->fairlearn) (1.4.2)\n",
            "Requirement already satisfied: threadpoolctl>=3.1.0 in /usr/local/lib/python3.10/dist-packages (from scikit-learn>=1.2.1->fairlearn) (3.5.0)\n",
            "Requirement already satisfied: contourpy>=1.0.1 in /usr/local/lib/python3.10/dist-packages (from matplotlib->aif360) (1.3.1)\n",
            "Requirement already satisfied: cycler>=0.10 in /usr/local/lib/python3.10/dist-packages (from matplotlib->aif360) (0.12.1)\n",
            "Requirement already satisfied: fonttools>=4.22.0 in /usr/local/lib/python3.10/dist-packages (from matplotlib->aif360) (4.55.1)\n",
            "Requirement already satisfied: kiwisolver>=1.0.1 in /usr/local/lib/python3.10/dist-packages (from matplotlib->aif360) (1.4.7)\n",
            "Requirement already satisfied: packaging>=20.0 in /usr/local/lib/python3.10/dist-packages (from matplotlib->aif360) (24.2)\n",
            "Requirement already satisfied: pillow>=6.2.0 in /usr/local/lib/python3.10/dist-packages (from matplotlib->aif360) (11.0.0)\n",
            "Requirement already satisfied: pyparsing>=2.3.1 in /usr/local/lib/python3.10/dist-packages (from matplotlib->aif360) (3.2.0)\n",
            "Requirement already satisfied: six>=1.5 in /usr/local/lib/python3.10/dist-packages (from python-dateutil>=2.8.2->pandas>=2.0.3->fairlearn) (1.16.0)\n",
            "Downloading fairlearn-0.11.0-py3-none-any.whl (232 kB)\n",
            "\u001b[2K   \u001b[90m━━━━━━━━━━━━━━━━━━━━━━━━━━━━━━━━━━━━━━━━\u001b[0m \u001b[32m232.3/232.3 kB\u001b[0m \u001b[31m4.0 MB/s\u001b[0m eta \u001b[36m0:00:00\u001b[0m\n",
            "\u001b[?25hDownloading aif360-0.6.1-py3-none-any.whl (259 kB)\n",
            "\u001b[2K   \u001b[90m━━━━━━━━━━━━━━━━━━━━━━━━━━━━━━━━━━━━━━━━\u001b[0m \u001b[32m259.7/259.7 kB\u001b[0m \u001b[31m9.6 MB/s\u001b[0m eta \u001b[36m0:00:00\u001b[0m\n",
            "\u001b[?25hInstalling collected packages: fairlearn, aif360\n",
            "Successfully installed aif360-0.6.1 fairlearn-0.11.0\n"
          ]
        }
      ]
    },
    {
      "cell_type": "code",
      "source": [
        "from fairlearn.metrics import demographic_parity_difference\n",
        "\n",
        "# Compute demographic parity difference for Race\n",
        "parity_diff = demographic_parity_difference(\n",
        "    y_true=dataset['True_Label'],\n",
        "    y_pred=dataset['Predicted_Label'],\n",
        "    sensitive_features=dataset['Race']\n",
        ")\n",
        "print(\"Demographic Parity Difference for Race:\", parity_diff)\n",
        "\n",
        "# Compute demographic parity difference for Gender\n",
        "parity_diff_gender = demographic_parity_difference(\n",
        "    y_true=dataset['True_Label'],\n",
        "    y_pred=dataset['Predicted_Label'],\n",
        "    sensitive_features=dataset['Gender']\n",
        ")\n",
        "print(\"Demographic Parity Difference for Gender:\", parity_diff_gender)\n",
        "\n"
      ],
      "metadata": {
        "colab": {
          "base_uri": "https://localhost:8080/"
        },
        "id": "4QM29U85l-HC",
        "outputId": "c9d97fcf-8280-48a7-f1ff-4ed86a7763a1"
      },
      "execution_count": null,
      "outputs": [
        {
          "output_type": "stream",
          "name": "stdout",
          "text": [
            "Demographic Parity Difference for Race: 0.0\n",
            "Demographic Parity Difference for Gender: 0.0\n"
          ]
        }
      ]
    }
  ]
}